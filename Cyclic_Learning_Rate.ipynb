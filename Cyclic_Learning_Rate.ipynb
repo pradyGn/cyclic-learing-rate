{
  "nbformat": 4,
  "nbformat_minor": 0,
  "metadata": {
    "colab": {
      "name": "DLSQ5.ipynb",
      "provenance": [],
      "collapsed_sections": []
    },
    "kernelspec": {
      "name": "python3",
      "display_name": "Python 3"
    },
    "language_info": {
      "name": "python"
    },
    "accelerator": "GPU"
  },
  "cells": [
    {
      "cell_type": "code",
      "source": [
        "!git clone https://github.com/WittmannF/LRFinder.git\n",
        "!git clone https://github.com/bckenstler/CLR.git"
      ],
      "metadata": {
        "colab": {
          "base_uri": "https://localhost:8080/"
        },
        "id": "rrGbxagR6GtW",
        "outputId": "449491b8-ba60-47c6-a40c-6e0edb38ef7d"
      },
      "execution_count": 3,
      "outputs": [
        {
          "output_type": "stream",
          "name": "stdout",
          "text": [
            "fatal: destination path 'LRFinder' already exists and is not an empty directory.\n",
            "Cloning into 'CLR'...\n",
            "remote: Enumerating objects: 252, done.\u001b[K\n",
            "remote: Counting objects: 100% (8/8), done.\u001b[K\n",
            "remote: Compressing objects: 100% (7/7), done.\u001b[K\n",
            "remote: Total 252 (delta 1), reused 4 (delta 0), pack-reused 244\u001b[K\n",
            "Receiving objects: 100% (252/252), 2.06 MiB | 12.70 MiB/s, done.\n",
            "Resolving deltas: 100% (87/87), done.\n"
          ]
        }
      ]
    },
    {
      "cell_type": "code",
      "execution_count": 5,
      "metadata": {
        "id": "uvtztXGMrXgN"
      },
      "outputs": [],
      "source": [
        "# import packages\n",
        "from keras.layers import BatchNormalization\n",
        "from keras.layers.convolutional import AveragePooling2D\n",
        "from keras.layers.core import Activation\n",
        "from keras.layers.core import Dropout\n",
        "from keras.layers import Input\n",
        "from keras.models import Model\n",
        "from keras.layers import concatenate\n",
        "from keras import backend as K\n",
        "from keras.models import Sequential\n",
        "from keras.datasets import fashion_mnist\n",
        "from keras.datasets import mnist\n",
        "from keras.layers import Dense, Flatten, Conv2D, MaxPooling2D\n",
        "from keras.losses import sparse_categorical_crossentropy\n",
        "import matplotlib.pyplot as plt\n",
        "from sklearn.preprocessing import LabelBinarizer\n",
        "from LRFinder.keras_callback import LRFinder\n",
        "from CLR.clr_callback import CyclicLR\n",
        "from tensorflow.keras.optimizers import Adam\n",
        "from keras.layers.convolutional import AveragePooling2D\n",
        "from keras.metrics import categorical_accuracy,top_k_categorical_accuracy\n",
        "import torch"
      ]
    },
    {
      "cell_type": "code",
      "source": [
        "def conv_module(x,K,kX,kY, stride, chanDim, padding=\"same\"):\n",
        "        x = Conv2D(K, (kX, kY), strides=stride, padding=padding)(x)\n",
        "        x = BatchNormalization(axis=chanDim)(x)\n",
        "        x = Activation(\"relu\")(x)\n",
        "        return x\n",
        "\n",
        "def inception_module(x, numK1x1, numK3x3, chanDim):\n",
        "    conv_1x1 = conv_module(x, numK1x1, 1, 1,(1, 1), chanDim)\n",
        "    conv_3x3 = conv_module(x, numK3x3, 3, 3,(1, 1), chanDim)\n",
        "    x = concatenate([conv_1x1, conv_3x3], axis=chanDim)\n",
        "    return x\n",
        "\n",
        "def downsample_module(x, K, chanDim):\n",
        "    conv_3x3 = conv_module(x, K, 3, 3, (2, 2),-1, padding=\"valid\")\n",
        "    pool = MaxPooling2D((3, 3), strides=(2, 2))(x)\n",
        "    x = concatenate([conv_3x3, pool], axis=chanDim)\n",
        "    return x\n",
        "\n",
        "def build(width, height, depth, classes):\n",
        "    inputShape = (height, width, depth)\n",
        "    chanDim = -1\n",
        "    \n",
        "    inputs = Input(shape=inputShape)\n",
        "    x = conv_module(inputs, 96, 3, 3, (1, 1),chanDim)\n",
        "    x = inception_module(x, 32, 32, chanDim)\n",
        "    x = inception_module(x, 32, 48, chanDim)\n",
        "    x = downsample_module(x, 80, chanDim)\n",
        "    x = inception_module(x, 112, 48, chanDim)\n",
        "    x = inception_module(x, 96, 64, chanDim)\n",
        "    x = inception_module(x, 80, 80, chanDim)\n",
        "    x = inception_module(x, 48, 96, chanDim)\n",
        "    x = downsample_module(x, 96, chanDim)\n",
        "    x = inception_module(x, 176, 160, chanDim)\n",
        "    x = inception_module(x, 176, 160, chanDim)\n",
        "    x = AveragePooling2D((7, 7),padding = \"same\")(x)\n",
        "    x = Dropout(0.5)(x)\n",
        "    x = Flatten()(x)\n",
        "    x = Dense(classes)(x)\n",
        "    x = Activation(\"softmax\")(x)\n",
        "    model = Model(inputs, x, name=\"googlenet\")\n",
        "    return model\n",
        "    \n",
        "from keras.metrics import categorical_accuracy,top_k_categorical_accuracy\n",
        "def top_5_accuracy(y_true, y_pred):\n",
        "    return top_k_categorical_accuracy(y_true, y_pred, k=5)"
      ],
      "metadata": {
        "id": "qGuQ3i0hvwxB"
      },
      "execution_count": 6,
      "outputs": []
    },
    {
      "cell_type": "code",
      "source": [
        "batch_size = 64\n",
        "img_width, img_height, img_num_channels = 28, 28, 1\n",
        "loss_function = sparse_categorical_crossentropy\n",
        "no_classes = 10\n",
        "no_epochs = 5\n",
        "\n",
        "(input_train, y_train), (input_test, y_test) = fashion_mnist.load_data()\n",
        "\n",
        "input_shape = (img_width, img_height, img_num_channels)\n",
        "\n",
        "input_train = input_train.astype('float32').reshape((input_train.shape[0], img_width, img_height, img_num_channels))\n",
        "input_test = input_test.astype('float32').reshape((input_test.shape[0], img_width, img_height, img_num_channels))\n",
        "\n",
        "input_train = input_train / 255\n",
        "input_test = input_test / 255"
      ],
      "metadata": {
        "colab": {
          "base_uri": "https://localhost:8080/"
        },
        "id": "reKuroq56CF4",
        "outputId": "32575603-bf55-441e-9ab7-7c20ff049ec8"
      },
      "execution_count": 7,
      "outputs": [
        {
          "output_type": "stream",
          "name": "stdout",
          "text": [
            "Downloading data from https://storage.googleapis.com/tensorflow/tf-keras-datasets/train-labels-idx1-ubyte.gz\n",
            "32768/29515 [=================================] - 0s 0us/step\n",
            "40960/29515 [=========================================] - 0s 0us/step\n",
            "Downloading data from https://storage.googleapis.com/tensorflow/tf-keras-datasets/train-images-idx3-ubyte.gz\n",
            "26427392/26421880 [==============================] - 0s 0us/step\n",
            "26435584/26421880 [==============================] - 0s 0us/step\n",
            "Downloading data from https://storage.googleapis.com/tensorflow/tf-keras-datasets/t10k-labels-idx1-ubyte.gz\n",
            "16384/5148 [===============================================================================================] - 0s 0us/step\n",
            "Downloading data from https://storage.googleapis.com/tensorflow/tf-keras-datasets/t10k-images-idx3-ubyte.gz\n",
            "4423680/4422102 [==============================] - 0s 0us/step\n",
            "4431872/4422102 [==============================] - 0s 0us/step\n"
          ]
        }
      ]
    },
    {
      "cell_type": "code",
      "source": [
        "model = build(28,28,1,10)\n",
        "model.compile(optimizer='adam', loss='sparse_categorical_crossentropy', metrics=['acc',top_5_accuracy])\n",
        "model.summary()"
      ],
      "metadata": {
        "colab": {
          "base_uri": "https://localhost:8080/"
        },
        "id": "GfMt1oH66tH4",
        "outputId": "6b0b42a2-fbf5-4501-a53d-ccd81b39ffe5"
      },
      "execution_count": 8,
      "outputs": [
        {
          "output_type": "stream",
          "name": "stdout",
          "text": [
            "Model: \"googlenet\"\n",
            "__________________________________________________________________________________________________\n",
            " Layer (type)                   Output Shape         Param #     Connected to                     \n",
            "==================================================================================================\n",
            " input_1 (InputLayer)           [(None, 28, 28, 1)]  0           []                               \n",
            "                                                                                                  \n",
            " conv2d (Conv2D)                (None, 28, 28, 96)   960         ['input_1[0][0]']                \n",
            "                                                                                                  \n",
            " batch_normalization (BatchNorm  (None, 28, 28, 96)  384         ['conv2d[0][0]']                 \n",
            " alization)                                                                                       \n",
            "                                                                                                  \n",
            " activation (Activation)        (None, 28, 28, 96)   0           ['batch_normalization[0][0]']    \n",
            "                                                                                                  \n",
            " conv2d_1 (Conv2D)              (None, 28, 28, 32)   3104        ['activation[0][0]']             \n",
            "                                                                                                  \n",
            " conv2d_2 (Conv2D)              (None, 28, 28, 32)   27680       ['activation[0][0]']             \n",
            "                                                                                                  \n",
            " batch_normalization_1 (BatchNo  (None, 28, 28, 32)  128         ['conv2d_1[0][0]']               \n",
            " rmalization)                                                                                     \n",
            "                                                                                                  \n",
            " batch_normalization_2 (BatchNo  (None, 28, 28, 32)  128         ['conv2d_2[0][0]']               \n",
            " rmalization)                                                                                     \n",
            "                                                                                                  \n",
            " activation_1 (Activation)      (None, 28, 28, 32)   0           ['batch_normalization_1[0][0]']  \n",
            "                                                                                                  \n",
            " activation_2 (Activation)      (None, 28, 28, 32)   0           ['batch_normalization_2[0][0]']  \n",
            "                                                                                                  \n",
            " concatenate (Concatenate)      (None, 28, 28, 64)   0           ['activation_1[0][0]',           \n",
            "                                                                  'activation_2[0][0]']           \n",
            "                                                                                                  \n",
            " conv2d_3 (Conv2D)              (None, 28, 28, 32)   2080        ['concatenate[0][0]']            \n",
            "                                                                                                  \n",
            " conv2d_4 (Conv2D)              (None, 28, 28, 48)   27696       ['concatenate[0][0]']            \n",
            "                                                                                                  \n",
            " batch_normalization_3 (BatchNo  (None, 28, 28, 32)  128         ['conv2d_3[0][0]']               \n",
            " rmalization)                                                                                     \n",
            "                                                                                                  \n",
            " batch_normalization_4 (BatchNo  (None, 28, 28, 48)  192         ['conv2d_4[0][0]']               \n",
            " rmalization)                                                                                     \n",
            "                                                                                                  \n",
            " activation_3 (Activation)      (None, 28, 28, 32)   0           ['batch_normalization_3[0][0]']  \n",
            "                                                                                                  \n",
            " activation_4 (Activation)      (None, 28, 28, 48)   0           ['batch_normalization_4[0][0]']  \n",
            "                                                                                                  \n",
            " concatenate_1 (Concatenate)    (None, 28, 28, 80)   0           ['activation_3[0][0]',           \n",
            "                                                                  'activation_4[0][0]']           \n",
            "                                                                                                  \n",
            " conv2d_5 (Conv2D)              (None, 13, 13, 80)   57680       ['concatenate_1[0][0]']          \n",
            "                                                                                                  \n",
            " batch_normalization_5 (BatchNo  (None, 13, 13, 80)  320         ['conv2d_5[0][0]']               \n",
            " rmalization)                                                                                     \n",
            "                                                                                                  \n",
            " activation_5 (Activation)      (None, 13, 13, 80)   0           ['batch_normalization_5[0][0]']  \n",
            "                                                                                                  \n",
            " max_pooling2d (MaxPooling2D)   (None, 13, 13, 80)   0           ['concatenate_1[0][0]']          \n",
            "                                                                                                  \n",
            " concatenate_2 (Concatenate)    (None, 13, 13, 160)  0           ['activation_5[0][0]',           \n",
            "                                                                  'max_pooling2d[0][0]']          \n",
            "                                                                                                  \n",
            " conv2d_6 (Conv2D)              (None, 13, 13, 112)  18032       ['concatenate_2[0][0]']          \n",
            "                                                                                                  \n",
            " conv2d_7 (Conv2D)              (None, 13, 13, 48)   69168       ['concatenate_2[0][0]']          \n",
            "                                                                                                  \n",
            " batch_normalization_6 (BatchNo  (None, 13, 13, 112)  448        ['conv2d_6[0][0]']               \n",
            " rmalization)                                                                                     \n",
            "                                                                                                  \n",
            " batch_normalization_7 (BatchNo  (None, 13, 13, 48)  192         ['conv2d_7[0][0]']               \n",
            " rmalization)                                                                                     \n",
            "                                                                                                  \n",
            " activation_6 (Activation)      (None, 13, 13, 112)  0           ['batch_normalization_6[0][0]']  \n",
            "                                                                                                  \n",
            " activation_7 (Activation)      (None, 13, 13, 48)   0           ['batch_normalization_7[0][0]']  \n",
            "                                                                                                  \n",
            " concatenate_3 (Concatenate)    (None, 13, 13, 160)  0           ['activation_6[0][0]',           \n",
            "                                                                  'activation_7[0][0]']           \n",
            "                                                                                                  \n",
            " conv2d_8 (Conv2D)              (None, 13, 13, 96)   15456       ['concatenate_3[0][0]']          \n",
            "                                                                                                  \n",
            " conv2d_9 (Conv2D)              (None, 13, 13, 64)   92224       ['concatenate_3[0][0]']          \n",
            "                                                                                                  \n",
            " batch_normalization_8 (BatchNo  (None, 13, 13, 96)  384         ['conv2d_8[0][0]']               \n",
            " rmalization)                                                                                     \n",
            "                                                                                                  \n",
            " batch_normalization_9 (BatchNo  (None, 13, 13, 64)  256         ['conv2d_9[0][0]']               \n",
            " rmalization)                                                                                     \n",
            "                                                                                                  \n",
            " activation_8 (Activation)      (None, 13, 13, 96)   0           ['batch_normalization_8[0][0]']  \n",
            "                                                                                                  \n",
            " activation_9 (Activation)      (None, 13, 13, 64)   0           ['batch_normalization_9[0][0]']  \n",
            "                                                                                                  \n",
            " concatenate_4 (Concatenate)    (None, 13, 13, 160)  0           ['activation_8[0][0]',           \n",
            "                                                                  'activation_9[0][0]']           \n",
            "                                                                                                  \n",
            " conv2d_10 (Conv2D)             (None, 13, 13, 80)   12880       ['concatenate_4[0][0]']          \n",
            "                                                                                                  \n",
            " conv2d_11 (Conv2D)             (None, 13, 13, 80)   115280      ['concatenate_4[0][0]']          \n",
            "                                                                                                  \n",
            " batch_normalization_10 (BatchN  (None, 13, 13, 80)  320         ['conv2d_10[0][0]']              \n",
            " ormalization)                                                                                    \n",
            "                                                                                                  \n",
            " batch_normalization_11 (BatchN  (None, 13, 13, 80)  320         ['conv2d_11[0][0]']              \n",
            " ormalization)                                                                                    \n",
            "                                                                                                  \n",
            " activation_10 (Activation)     (None, 13, 13, 80)   0           ['batch_normalization_10[0][0]'] \n",
            "                                                                                                  \n",
            " activation_11 (Activation)     (None, 13, 13, 80)   0           ['batch_normalization_11[0][0]'] \n",
            "                                                                                                  \n",
            " concatenate_5 (Concatenate)    (None, 13, 13, 160)  0           ['activation_10[0][0]',          \n",
            "                                                                  'activation_11[0][0]']          \n",
            "                                                                                                  \n",
            " conv2d_12 (Conv2D)             (None, 13, 13, 48)   7728        ['concatenate_5[0][0]']          \n",
            "                                                                                                  \n",
            " conv2d_13 (Conv2D)             (None, 13, 13, 96)   138336      ['concatenate_5[0][0]']          \n",
            "                                                                                                  \n",
            " batch_normalization_12 (BatchN  (None, 13, 13, 48)  192         ['conv2d_12[0][0]']              \n",
            " ormalization)                                                                                    \n",
            "                                                                                                  \n",
            " batch_normalization_13 (BatchN  (None, 13, 13, 96)  384         ['conv2d_13[0][0]']              \n",
            " ormalization)                                                                                    \n",
            "                                                                                                  \n",
            " activation_12 (Activation)     (None, 13, 13, 48)   0           ['batch_normalization_12[0][0]'] \n",
            "                                                                                                  \n",
            " activation_13 (Activation)     (None, 13, 13, 96)   0           ['batch_normalization_13[0][0]'] \n",
            "                                                                                                  \n",
            " concatenate_6 (Concatenate)    (None, 13, 13, 144)  0           ['activation_12[0][0]',          \n",
            "                                                                  'activation_13[0][0]']          \n",
            "                                                                                                  \n",
            " conv2d_14 (Conv2D)             (None, 6, 6, 96)     124512      ['concatenate_6[0][0]']          \n",
            "                                                                                                  \n",
            " batch_normalization_14 (BatchN  (None, 6, 6, 96)    384         ['conv2d_14[0][0]']              \n",
            " ormalization)                                                                                    \n",
            "                                                                                                  \n",
            " activation_14 (Activation)     (None, 6, 6, 96)     0           ['batch_normalization_14[0][0]'] \n",
            "                                                                                                  \n",
            " max_pooling2d_1 (MaxPooling2D)  (None, 6, 6, 144)   0           ['concatenate_6[0][0]']          \n",
            "                                                                                                  \n",
            " concatenate_7 (Concatenate)    (None, 6, 6, 240)    0           ['activation_14[0][0]',          \n",
            "                                                                  'max_pooling2d_1[0][0]']        \n",
            "                                                                                                  \n",
            " conv2d_15 (Conv2D)             (None, 6, 6, 176)    42416       ['concatenate_7[0][0]']          \n",
            "                                                                                                  \n",
            " conv2d_16 (Conv2D)             (None, 6, 6, 160)    345760      ['concatenate_7[0][0]']          \n",
            "                                                                                                  \n",
            " batch_normalization_15 (BatchN  (None, 6, 6, 176)   704         ['conv2d_15[0][0]']              \n",
            " ormalization)                                                                                    \n",
            "                                                                                                  \n",
            " batch_normalization_16 (BatchN  (None, 6, 6, 160)   640         ['conv2d_16[0][0]']              \n",
            " ormalization)                                                                                    \n",
            "                                                                                                  \n",
            " activation_15 (Activation)     (None, 6, 6, 176)    0           ['batch_normalization_15[0][0]'] \n",
            "                                                                                                  \n",
            " activation_16 (Activation)     (None, 6, 6, 160)    0           ['batch_normalization_16[0][0]'] \n",
            "                                                                                                  \n",
            " concatenate_8 (Concatenate)    (None, 6, 6, 336)    0           ['activation_15[0][0]',          \n",
            "                                                                  'activation_16[0][0]']          \n",
            "                                                                                                  \n",
            " conv2d_17 (Conv2D)             (None, 6, 6, 176)    59312       ['concatenate_8[0][0]']          \n",
            "                                                                                                  \n",
            " conv2d_18 (Conv2D)             (None, 6, 6, 160)    484000      ['concatenate_8[0][0]']          \n",
            "                                                                                                  \n",
            " batch_normalization_17 (BatchN  (None, 6, 6, 176)   704         ['conv2d_17[0][0]']              \n",
            " ormalization)                                                                                    \n",
            "                                                                                                  \n",
            " batch_normalization_18 (BatchN  (None, 6, 6, 160)   640         ['conv2d_18[0][0]']              \n",
            " ormalization)                                                                                    \n",
            "                                                                                                  \n",
            " activation_17 (Activation)     (None, 6, 6, 176)    0           ['batch_normalization_17[0][0]'] \n",
            "                                                                                                  \n",
            " activation_18 (Activation)     (None, 6, 6, 160)    0           ['batch_normalization_18[0][0]'] \n",
            "                                                                                                  \n",
            " concatenate_9 (Concatenate)    (None, 6, 6, 336)    0           ['activation_17[0][0]',          \n",
            "                                                                  'activation_18[0][0]']          \n",
            "                                                                                                  \n",
            " average_pooling2d (AveragePool  (None, 1, 1, 336)   0           ['concatenate_9[0][0]']          \n",
            " ing2D)                                                                                           \n",
            "                                                                                                  \n",
            " dropout (Dropout)              (None, 1, 1, 336)    0           ['average_pooling2d[0][0]']      \n",
            "                                                                                                  \n",
            " flatten (Flatten)              (None, 336)          0           ['dropout[0][0]']                \n",
            "                                                                                                  \n",
            " dense (Dense)                  (None, 10)           3370        ['flatten[0][0]']                \n",
            "                                                                                                  \n",
            " activation_19 (Activation)     (None, 10)           0           ['dense[0][0]']                  \n",
            "                                                                                                  \n",
            "==================================================================================================\n",
            "Total params: 1,654,522\n",
            "Trainable params: 1,651,098\n",
            "Non-trainable params: 3,424\n",
            "__________________________________________________________________________________________________\n"
          ]
        }
      ]
    },
    {
      "cell_type": "markdown",
      "source": [
        "# 5.1"
      ],
      "metadata": {
        "id": "E_-rNFRmg5_J"
      }
    },
    {
      "cell_type": "code",
      "source": [
        "lr_finder = LRFinder(min_lr=1e-9, max_lr=10)\n",
        "lr_history = model.fit(input_train, y_train, batch_size=64, callbacks=[lr_finder], epochs=5)"
      ],
      "metadata": {
        "colab": {
          "base_uri": "https://localhost:8080/",
          "height": 599
        },
        "id": "uY08X0pb6xkj",
        "outputId": "1ce9e1ba-a1da-4006-82c4-b08f46a98171"
      },
      "execution_count": 26,
      "outputs": [
        {
          "output_type": "stream",
          "name": "stdout",
          "text": [
            "Epoch 1/5\n",
            "  6/938 [..............................] - ETA: 2:01 - loss: 2.6361 - acc: 0.0964 - top_5_accuracy: 0.3568WARNING:tensorflow:Callback method `on_train_batch_end` is slow compared to the batch time (batch time: 0.0426s vs `on_train_batch_end` time: 0.1029s). Check your callbacks.\n",
            "938/938 [==============================] - 102s 106ms/step - loss: 2.6565 - acc: 0.0967 - top_5_accuracy: 0.3666\n",
            "Epoch 2/5\n",
            "938/938 [==============================] - 100s 107ms/step - loss: 2.6494 - acc: 0.0967 - top_5_accuracy: 0.3668\n",
            "Epoch 3/5\n",
            "938/938 [==============================] - 105s 112ms/step - loss: 2.3963 - acc: 0.1773 - top_5_accuracy: 0.3898\n",
            "Epoch 4/5\n",
            "938/938 [==============================] - 103s 110ms/step - loss: 1.6822 - acc: 0.4178 - top_5_accuracy: 0.5781\n",
            "Epoch 5/5\n",
            "938/938 [==============================] - 91s 97ms/step - loss: 8.6112 - acc: 0.1511 - top_5_accuracy: 0.5506\n"
          ]
        },
        {
          "output_type": "display_data",
          "data": {
            "image/png": "[encoded data removed]",
            "text/plain": [
              "<Figure size 864x432 with 1 Axes>"
            ]
          },
          "metadata": {
            "needs_background": "light"
          }
        }
      ]
    },
    {
      "cell_type": "markdown",
      "source": [
        "5.1\n",
        "\n",
        "From the above plot we can see that mimimum learning rate should be around 0.001 and maximim learning rate should be around 0.01"
      ],
      "metadata": {
        "id": "o-9lLq3Cgm15"
      }
    },
    {
      "cell_type": "markdown",
      "source": [
        "# 5.2"
      ],
      "metadata": {
        "id": "GyaauYUlh2zm"
      }
    },
    {
      "cell_type": "code",
      "source": [
        "model = build(28,28,1,10)\n",
        "model.compile(optimizer='adam', loss='sparse_categorical_crossentropy', metrics=['acc',top_5_accuracy])\n",
        "model.summary()\n",
        "\n",
        "clr = CyclicLR(base_lr=0.001, max_lr=0.01, step_size=3750, mode = \"exp_range\",gamma=0.99994)\n",
        "clr_hist = model.fit(input_train, y_train, callbacks=[clr],epochs = 10,validation_split=0.2)"
      ],
      "metadata": {
        "colab": {
          "base_uri": "https://localhost:8080/"
        },
        "id": "kgWLHvNy63W7",
        "outputId": "71f27cd4-71a1-4b84-f36f-5c83f38f32ba"
      },
      "execution_count": 9,
      "outputs": [
        {
          "output_type": "stream",
          "name": "stdout",
          "text": [
            "Model: \"googlenet\"\n",
            "__________________________________________________________________________________________________\n",
            " Layer (type)                   Output Shape         Param #     Connected to                     \n",
            "==================================================================================================\n",
            " input_2 (InputLayer)           [(None, 28, 28, 1)]  0           []                               \n",
            "                                                                                                  \n",
            " conv2d_19 (Conv2D)             (None, 28, 28, 96)   960         ['input_2[0][0]']                \n",
            "                                                                                                  \n",
            " batch_normalization_19 (BatchN  (None, 28, 28, 96)  384         ['conv2d_19[0][0]']              \n",
            " ormalization)                                                                                    \n",
            "                                                                                                  \n",
            " activation_20 (Activation)     (None, 28, 28, 96)   0           ['batch_normalization_19[0][0]'] \n",
            "                                                                                                  \n",
            " conv2d_20 (Conv2D)             (None, 28, 28, 32)   3104        ['activation_20[0][0]']          \n",
            "                                                                                                  \n",
            " conv2d_21 (Conv2D)             (None, 28, 28, 32)   27680       ['activation_20[0][0]']          \n",
            "                                                                                                  \n",
            " batch_normalization_20 (BatchN  (None, 28, 28, 32)  128         ['conv2d_20[0][0]']              \n",
            " ormalization)                                                                                    \n",
            "                                                                                                  \n",
            " batch_normalization_21 (BatchN  (None, 28, 28, 32)  128         ['conv2d_21[0][0]']              \n",
            " ormalization)                                                                                    \n",
            "                                                                                                  \n",
            " activation_21 (Activation)     (None, 28, 28, 32)   0           ['batch_normalization_20[0][0]'] \n",
            "                                                                                                  \n",
            " activation_22 (Activation)     (None, 28, 28, 32)   0           ['batch_normalization_21[0][0]'] \n",
            "                                                                                                  \n",
            " concatenate_10 (Concatenate)   (None, 28, 28, 64)   0           ['activation_21[0][0]',          \n",
            "                                                                  'activation_22[0][0]']          \n",
            "                                                                                                  \n",
            " conv2d_22 (Conv2D)             (None, 28, 28, 32)   2080        ['concatenate_10[0][0]']         \n",
            "                                                                                                  \n",
            " conv2d_23 (Conv2D)             (None, 28, 28, 48)   27696       ['concatenate_10[0][0]']         \n",
            "                                                                                                  \n",
            " batch_normalization_22 (BatchN  (None, 28, 28, 32)  128         ['conv2d_22[0][0]']              \n",
            " ormalization)                                                                                    \n",
            "                                                                                                  \n",
            " batch_normalization_23 (BatchN  (None, 28, 28, 48)  192         ['conv2d_23[0][0]']              \n",
            " ormalization)                                                                                    \n",
            "                                                                                                  \n",
            " activation_23 (Activation)     (None, 28, 28, 32)   0           ['batch_normalization_22[0][0]'] \n",
            "                                                                                                  \n",
            " activation_24 (Activation)     (None, 28, 28, 48)   0           ['batch_normalization_23[0][0]'] \n",
            "                                                                                                  \n",
            " concatenate_11 (Concatenate)   (None, 28, 28, 80)   0           ['activation_23[0][0]',          \n",
            "                                                                  'activation_24[0][0]']          \n",
            "                                                                                                  \n",
            " conv2d_24 (Conv2D)             (None, 13, 13, 80)   57680       ['concatenate_11[0][0]']         \n",
            "                                                                                                  \n",
            " batch_normalization_24 (BatchN  (None, 13, 13, 80)  320         ['conv2d_24[0][0]']              \n",
            " ormalization)                                                                                    \n",
            "                                                                                                  \n",
            " activation_25 (Activation)     (None, 13, 13, 80)   0           ['batch_normalization_24[0][0]'] \n",
            "                                                                                                  \n",
            " max_pooling2d_2 (MaxPooling2D)  (None, 13, 13, 80)  0           ['concatenate_11[0][0]']         \n",
            "                                                                                                  \n",
            " concatenate_12 (Concatenate)   (None, 13, 13, 160)  0           ['activation_25[0][0]',          \n",
            "                                                                  'max_pooling2d_2[0][0]']        \n",
            "                                                                                                  \n",
            " conv2d_25 (Conv2D)             (None, 13, 13, 112)  18032       ['concatenate_12[0][0]']         \n",
            "                                                                                                  \n",
            " conv2d_26 (Conv2D)             (None, 13, 13, 48)   69168       ['concatenate_12[0][0]']         \n",
            "                                                                                                  \n",
            " batch_normalization_25 (BatchN  (None, 13, 13, 112)  448        ['conv2d_25[0][0]']              \n",
            " ormalization)                                                                                    \n",
            "                                                                                                  \n",
            " batch_normalization_26 (BatchN  (None, 13, 13, 48)  192         ['conv2d_26[0][0]']              \n",
            " ormalization)                                                                                    \n",
            "                                                                                                  \n",
            " activation_26 (Activation)     (None, 13, 13, 112)  0           ['batch_normalization_25[0][0]'] \n",
            "                                                                                                  \n",
            " activation_27 (Activation)     (None, 13, 13, 48)   0           ['batch_normalization_26[0][0]'] \n",
            "                                                                                                  \n",
            " concatenate_13 (Concatenate)   (None, 13, 13, 160)  0           ['activation_26[0][0]',          \n",
            "                                                                  'activation_27[0][0]']          \n",
            "                                                                                                  \n",
            " conv2d_27 (Conv2D)             (None, 13, 13, 96)   15456       ['concatenate_13[0][0]']         \n",
            "                                                                                                  \n",
            " conv2d_28 (Conv2D)             (None, 13, 13, 64)   92224       ['concatenate_13[0][0]']         \n",
            "                                                                                                  \n",
            " batch_normalization_27 (BatchN  (None, 13, 13, 96)  384         ['conv2d_27[0][0]']              \n",
            " ormalization)                                                                                    \n",
            "                                                                                                  \n",
            " batch_normalization_28 (BatchN  (None, 13, 13, 64)  256         ['conv2d_28[0][0]']              \n",
            " ormalization)                                                                                    \n",
            "                                                                                                  \n",
            " activation_28 (Activation)     (None, 13, 13, 96)   0           ['batch_normalization_27[0][0]'] \n",
            "                                                                                                  \n",
            " activation_29 (Activation)     (None, 13, 13, 64)   0           ['batch_normalization_28[0][0]'] \n",
            "                                                                                                  \n",
            " concatenate_14 (Concatenate)   (None, 13, 13, 160)  0           ['activation_28[0][0]',          \n",
            "                                                                  'activation_29[0][0]']          \n",
            "                                                                                                  \n",
            " conv2d_29 (Conv2D)             (None, 13, 13, 80)   12880       ['concatenate_14[0][0]']         \n",
            "                                                                                                  \n",
            " conv2d_30 (Conv2D)             (None, 13, 13, 80)   115280      ['concatenate_14[0][0]']         \n",
            "                                                                                                  \n",
            " batch_normalization_29 (BatchN  (None, 13, 13, 80)  320         ['conv2d_29[0][0]']              \n",
            " ormalization)                                                                                    \n",
            "                                                                                                  \n",
            " batch_normalization_30 (BatchN  (None, 13, 13, 80)  320         ['conv2d_30[0][0]']              \n",
            " ormalization)                                                                                    \n",
            "                                                                                                  \n",
            " activation_30 (Activation)     (None, 13, 13, 80)   0           ['batch_normalization_29[0][0]'] \n",
            "                                                                                                  \n",
            " activation_31 (Activation)     (None, 13, 13, 80)   0           ['batch_normalization_30[0][0]'] \n",
            "                                                                                                  \n",
            " concatenate_15 (Concatenate)   (None, 13, 13, 160)  0           ['activation_30[0][0]',          \n",
            "                                                                  'activation_31[0][0]']          \n",
            "                                                                                                  \n",
            " conv2d_31 (Conv2D)             (None, 13, 13, 48)   7728        ['concatenate_15[0][0]']         \n",
            "                                                                                                  \n",
            " conv2d_32 (Conv2D)             (None, 13, 13, 96)   138336      ['concatenate_15[0][0]']         \n",
            "                                                                                                  \n",
            " batch_normalization_31 (BatchN  (None, 13, 13, 48)  192         ['conv2d_31[0][0]']              \n",
            " ormalization)                                                                                    \n",
            "                                                                                                  \n",
            " batch_normalization_32 (BatchN  (None, 13, 13, 96)  384         ['conv2d_32[0][0]']              \n",
            " ormalization)                                                                                    \n",
            "                                                                                                  \n",
            " activation_32 (Activation)     (None, 13, 13, 48)   0           ['batch_normalization_31[0][0]'] \n",
            "                                                                                                  \n",
            " activation_33 (Activation)     (None, 13, 13, 96)   0           ['batch_normalization_32[0][0]'] \n",
            "                                                                                                  \n",
            " concatenate_16 (Concatenate)   (None, 13, 13, 144)  0           ['activation_32[0][0]',          \n",
            "                                                                  'activation_33[0][0]']          \n",
            "                                                                                                  \n",
            " conv2d_33 (Conv2D)             (None, 6, 6, 96)     124512      ['concatenate_16[0][0]']         \n",
            "                                                                                                  \n",
            " batch_normalization_33 (BatchN  (None, 6, 6, 96)    384         ['conv2d_33[0][0]']              \n",
            " ormalization)                                                                                    \n",
            "                                                                                                  \n",
            " activation_34 (Activation)     (None, 6, 6, 96)     0           ['batch_normalization_33[0][0]'] \n",
            "                                                                                                  \n",
            " max_pooling2d_3 (MaxPooling2D)  (None, 6, 6, 144)   0           ['concatenate_16[0][0]']         \n",
            "                                                                                                  \n",
            " concatenate_17 (Concatenate)   (None, 6, 6, 240)    0           ['activation_34[0][0]',          \n",
            "                                                                  'max_pooling2d_3[0][0]']        \n",
            "                                                                                                  \n",
            " conv2d_34 (Conv2D)             (None, 6, 6, 176)    42416       ['concatenate_17[0][0]']         \n",
            "                                                                                                  \n",
            " conv2d_35 (Conv2D)             (None, 6, 6, 160)    345760      ['concatenate_17[0][0]']         \n",
            "                                                                                                  \n",
            " batch_normalization_34 (BatchN  (None, 6, 6, 176)   704         ['conv2d_34[0][0]']              \n",
            " ormalization)                                                                                    \n",
            "                                                                                                  \n",
            " batch_normalization_35 (BatchN  (None, 6, 6, 160)   640         ['conv2d_35[0][0]']              \n",
            " ormalization)                                                                                    \n",
            "                                                                                                  \n",
            " activation_35 (Activation)     (None, 6, 6, 176)    0           ['batch_normalization_34[0][0]'] \n",
            "                                                                                                  \n",
            " activation_36 (Activation)     (None, 6, 6, 160)    0           ['batch_normalization_35[0][0]'] \n",
            "                                                                                                  \n",
            " concatenate_18 (Concatenate)   (None, 6, 6, 336)    0           ['activation_35[0][0]',          \n",
            "                                                                  'activation_36[0][0]']          \n",
            "                                                                                                  \n",
            " conv2d_36 (Conv2D)             (None, 6, 6, 176)    59312       ['concatenate_18[0][0]']         \n",
            "                                                                                                  \n",
            " conv2d_37 (Conv2D)             (None, 6, 6, 160)    484000      ['concatenate_18[0][0]']         \n",
            "                                                                                                  \n",
            " batch_normalization_36 (BatchN  (None, 6, 6, 176)   704         ['conv2d_36[0][0]']              \n",
            " ormalization)                                                                                    \n",
            "                                                                                                  \n",
            " batch_normalization_37 (BatchN  (None, 6, 6, 160)   640         ['conv2d_37[0][0]']              \n",
            " ormalization)                                                                                    \n",
            "                                                                                                  \n",
            " activation_37 (Activation)     (None, 6, 6, 176)    0           ['batch_normalization_36[0][0]'] \n",
            "                                                                                                  \n",
            " activation_38 (Activation)     (None, 6, 6, 160)    0           ['batch_normalization_37[0][0]'] \n",
            "                                                                                                  \n",
            " concatenate_19 (Concatenate)   (None, 6, 6, 336)    0           ['activation_37[0][0]',          \n",
            "                                                                  'activation_38[0][0]']          \n",
            "                                                                                                  \n",
            " average_pooling2d_1 (AveragePo  (None, 1, 1, 336)   0           ['concatenate_19[0][0]']         \n",
            " oling2D)                                                                                         \n",
            "                                                                                                  \n",
            " dropout_1 (Dropout)            (None, 1, 1, 336)    0           ['average_pooling2d_1[0][0]']    \n",
            "                                                                                                  \n",
            " flatten_1 (Flatten)            (None, 336)          0           ['dropout_1[0][0]']              \n",
            "                                                                                                  \n",
            " dense_1 (Dense)                (None, 10)           3370        ['flatten_1[0][0]']              \n",
            "                                                                                                  \n",
            " activation_39 (Activation)     (None, 10)           0           ['dense_1[0][0]']                \n",
            "                                                                                                  \n",
            "==================================================================================================\n",
            "Total params: 1,654,522\n",
            "Trainable params: 1,651,098\n",
            "Non-trainable params: 3,424\n",
            "__________________________________________________________________________________________________\n",
            "Epoch 1/10\n",
            "   6/1500 [..............................] - ETA: 1:55 - loss: 1.8310 - acc: 0.3646 - top_5_accuracy: 0.4375WARNING:tensorflow:Callback method `on_train_batch_end` is slow compared to the batch time (batch time: 0.0249s vs `on_train_batch_end` time: 0.0424s). Check your callbacks.\n",
            "1500/1500 [==============================] - 138s 82ms/step - loss: 0.4713 - acc: 0.8307 - top_5_accuracy: 0.7098 - val_loss: 0.5725 - val_acc: 0.8176 - val_top_5_accuracy: 0.7805\n",
            "Epoch 2/10\n",
            "1500/1500 [==============================] - 125s 83ms/step - loss: 0.3326 - acc: 0.8810 - top_5_accuracy: 0.7553 - val_loss: 0.3600 - val_acc: 0.8742 - val_top_5_accuracy: 0.7138\n",
            "Epoch 3/10\n",
            "1500/1500 [==============================] - 125s 83ms/step - loss: 0.2860 - acc: 0.8986 - top_5_accuracy: 0.7464 - val_loss: 0.2628 - val_acc: 0.9068 - val_top_5_accuracy: 0.8084\n",
            "Epoch 4/10\n",
            "1500/1500 [==============================] - 122s 81ms/step - loss: 0.2292 - acc: 0.9176 - top_5_accuracy: 0.7476 - val_loss: 0.2481 - val_acc: 0.9127 - val_top_5_accuracy: 0.9366\n",
            "Epoch 5/10\n",
            "1500/1500 [==============================] - 122s 81ms/step - loss: 0.1730 - acc: 0.9381 - top_5_accuracy: 0.7610 - val_loss: 0.1719 - val_acc: 0.9384 - val_top_5_accuracy: 0.8127\n",
            "Epoch 6/10\n",
            "1500/1500 [==============================] - 125s 83ms/step - loss: 0.1480 - acc: 0.9456 - top_5_accuracy: 0.7173 - val_loss: 0.2813 - val_acc: 0.9063 - val_top_5_accuracy: 0.9616\n",
            "Epoch 7/10\n",
            "1500/1500 [==============================] - 124s 83ms/step - loss: 0.1744 - acc: 0.9367 - top_5_accuracy: 0.7184 - val_loss: 0.2038 - val_acc: 0.9279 - val_top_5_accuracy: 0.7667\n",
            "Epoch 8/10\n",
            "1500/1500 [==============================] - 124s 83ms/step - loss: 0.1750 - acc: 0.9371 - top_5_accuracy: 0.7000 - val_loss: 0.2384 - val_acc: 0.9150 - val_top_5_accuracy: 0.7869\n",
            "Epoch 9/10\n",
            "1500/1500 [==============================] - 122s 81ms/step - loss: 0.1326 - acc: 0.9516 - top_5_accuracy: 0.7219 - val_loss: 0.1941 - val_acc: 0.9374 - val_top_5_accuracy: 0.7513\n",
            "Epoch 10/10\n",
            "1500/1500 [==============================] - 122s 81ms/step - loss: 0.0813 - acc: 0.9697 - top_5_accuracy: 0.7153 - val_loss: 0.1888 - val_acc: 0.9383 - val_top_5_accuracy: 0.6798\n"
          ]
        }
      ]
    },
    {
      "cell_type": "code",
      "source": [
        "x = [1, 2, 3, 4, 5, 6, 7, 8, 9, 10]"
      ],
      "metadata": {
        "id": "XoJh6XTcI9bY"
      },
      "execution_count": 14,
      "outputs": []
    },
    {
      "cell_type": "code",
      "source": [
        "plt.plot(x,clr_hist.history[\"acc\"])\n",
        "plt.plot(x,clr_hist.history[\"val_acc\"])\n",
        "plt.plot(x,clr_hist.history[\"loss\"])\n",
        "plt.plot(x,clr_hist.history[\"val_loss\"])\n",
        "plt.legend(['Training accuracy', 'Validation accuracy', 'Training loss', 'Validation loss'])\n",
        "plt.title(\"Accuracy/Loss vs Epochs\")\n",
        "plt.xlabel(\"Epochs\")\n",
        "plt.ylabel(\"Accuracy/Loss\")\n",
        "plt.show()"
      ],
      "metadata": {
        "colab": {
          "base_uri": "https://localhost:8080/",
          "height": 295
        },
        "id": "HJMDe0uGFOVF",
        "outputId": "e9da9f2c-b93b-4c5a-e0a0-d095aa619c19"
      },
      "execution_count": 15,
      "outputs": [
        {
          "output_type": "display_data",
          "data": {
            "image/png": "[encoded data removed]",
            "text/plain": [
              "<Figure size 432x288 with 1 Axes>"
            ]
          },
          "metadata": {
            "needs_background": "light"
          }
        }
      ]
    },
    {
      "cell_type": "markdown",
      "source": [
        "# 5.3\n",
        "\n",
        "The following code was run on NYU HPC and the results of the same are shown in the next few cells"
      ],
      "metadata": {
        "id": "WyZI0YOWhnJY"
      }
    },
    {
      "cell_type": "code",
      "source": [
        "device = (\"cuda\" if torch.cuda.is_available() else \"cpu\")\n",
        "\n",
        "def conv_module(x,K,kX,kY, stride, chanDim, padding=\"same\"):\n",
        "        x = Conv2D(K, (kX, kY), strides=stride, padding=padding)(x)\n",
        "        x = BatchNormalization(axis=chanDim)(x)\n",
        "        x = Activation(\"relu\")(x)\n",
        "        return x\n",
        "\n",
        "def inception_module(x, numK1x1, numK3x3, chanDim):\n",
        "    conv_1x1 = conv_module(x, numK1x1, 1, 1,(1, 1), chanDim)\n",
        "    conv_3x3 = conv_module(x, numK3x3, 3, 3,(1, 1), chanDim)\n",
        "    x = concatenate([conv_1x1, conv_3x3], axis=chanDim)\n",
        "    return x\n",
        "\n",
        "def downsample_module(x, K, chanDim):\n",
        "    conv_3x3 = conv_module(x, K, 3, 3, (2, 2),-1, padding=\"valid\")\n",
        "    pool = MaxPooling2D((3, 3), strides=(2, 2))(x)\n",
        "    x = concatenate([conv_3x3, pool], axis=chanDim)\n",
        "    return x\n",
        "\n",
        "def build(width, height, depth, classes):\n",
        "    inputShape = (height, width, depth)\n",
        "    chanDim = -1\n",
        "    \n",
        "    inputs = Input(shape=inputShape)\n",
        "    x = conv_module(inputs, 96, 3, 3, (1, 1),chanDim)\n",
        "    x = inception_module(x, 32, 32, chanDim)\n",
        "    x = inception_module(x, 32, 48, chanDim)\n",
        "    x = downsample_module(x, 80, chanDim)\n",
        "    x = inception_module(x, 112, 48, chanDim)\n",
        "    x = inception_module(x, 96, 64, chanDim)\n",
        "    x = inception_module(x, 80, 80, chanDim)\n",
        "    x = inception_module(x, 48, 96, chanDim)\n",
        "    x = downsample_module(x, 96, chanDim)\n",
        "    x = inception_module(x, 176, 160, chanDim)\n",
        "    x = inception_module(x, 176, 160, chanDim)\n",
        "    x = AveragePooling2D((7, 7),padding = \"same\")(x)\n",
        "    x = Dropout(0.5)(x)\n",
        "    x = Flatten()(x)\n",
        "    x = Dense(classes)(x)\n",
        "    x = Activation(\"softmax\")(x)\n",
        "    model = Model(inputs, x, name=\"googlenet\")\n",
        "    return model\n",
        "\n",
        "def top_5_accuracy(y_true, y_pred):\n",
        "    return top_k_categorical_accuracy(y_true, y_pred, k=5)\n",
        "\n",
        "\n",
        "batch_size = 64\n",
        "img_width, img_height, img_num_channels = 28, 28, 1\n",
        "loss_function = sparse_categorical_crossentropy\n",
        "no_classes = 10\n",
        "no_epochs = 5\n",
        "\n",
        "(input_train, y_train), (input_test, y_test) = fashion_mnist.load_data()\n",
        "\n",
        "input_shape = (img_width, img_height, img_num_channels)\n",
        "\n",
        "input_train = input_train.astype('float32').reshape((input_train.shape[0], img_width, img_height, img_num_channels))\n",
        "input_test = input_test.astype('float32').reshape((input_test.shape[0], img_width, img_height, img_num_channels))\n",
        "\n",
        "input_train = input_train / 255\n",
        "input_test = input_test / 255\n",
        "\n",
        "\n",
        "optimizer = Adam(lr=0.01)\n",
        "\n",
        "hists = []\n",
        "for i in [32,64,128,256,512,1024,2048,4096,8192,16384]:\n",
        "    lr = i\n",
        "    model = build(28,28,1,10)\n",
        "    model.compile(optimizer=optimizer, loss='sparse_categorical_crossentropy', metrics=['acc',top_5_accuracy])\n",
        "    hist = model.fit(input_train, y_train, epochs = 5)\n",
        "    hists.append(hist)\n",
        "print(hists)"
      ],
      "metadata": {
        "id": "FerE1a0T63Lu"
      },
      "execution_count": null,
      "outputs": []
    },
    {
      "cell_type": "code",
      "source": [
        "#the training loss values are taken from the output file provided by HPC\n",
        "training_loss = [0.2169, 0.2393, 0.2480, 0.2357, 0.2446, 0.2504, 0.2320, 0.2383, 0.2408, 0.2378]\n",
        "batch_size = [32,64,128,256,512,1024,2048,4096,8192,16384]\n",
        "\n",
        "plt.plot(batch_size, training_loss)\n",
        "plt.xlabel('Batch size')\n",
        "plt.ylabel('Training loss')"
      ],
      "metadata": {
        "colab": {
          "base_uri": "https://localhost:8080/",
          "height": 296
        },
        "id": "7Te1PprjFhg3",
        "outputId": "51eda1ac-4198-48e3-97f7-4a242799c11c"
      },
      "execution_count": 10,
      "outputs": [
        {
          "output_type": "execute_result",
          "data": {
            "text/plain": [
              "Text(0, 0.5, 'Training loss')"
            ]
          },
          "metadata": {},
          "execution_count": 10
        },
        {
          "output_type": "display_data",
          "data": {
            "image/png": "[encoded data removed]",
            "text/plain": [
              "<Figure size 432x288 with 1 Axes>"
            ]
          },
          "metadata": {
            "needs_background": "light"
          }
        }
      ]
    },
    {
      "cell_type": "markdown",
      "source": [
        "The cyclical learning rate policy is better at genralizing than the increasing batch size policy. \n",
        "\n",
        "In the increasing batch size policy the training loss is more or less in between 0.2 and 0.25 where as using the cyclical learning rate policy training loss goes as low as 0.08."
      ],
      "metadata": {
        "id": "GuOU8SC0ne2V"
      }
    },
    {
      "cell_type": "code",
      "source": [
        ""
      ],
      "metadata": {
        "id": "pzY84fEiLdpw"
      },
      "execution_count": null,
      "outputs": []
    }
  ]
}